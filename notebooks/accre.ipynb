{
 "cells": [
  {
   "cell_type": "markdown",
   "metadata": {},
   "source": [
    "## ACCRE\n",
    "\n",
    "\n",
    "### Questions from Eric:"
   ]
  },
  {
   "cell_type": "markdown",
   "metadata": {},
   "source": [
    "### 1) What groups are best optimizing their memory usage in terms of percent of actual memory used vs. memory requested for the job? What is the average percent for each group?\n",
    "\n",
    "Note: \n",
    "    When Eric says \"group\" is he referring to \"research groups\" (which could be indicated by one or more account IDs), job groups (job IDs in an array), or partition groups?\n",
    "    "
   ]
  },
  {
   "cell_type": "markdown",
   "metadata": {},
   "source": [
    "### 2) Optimizing memory is more important for longer running jobs than shorter running jobs, as the resources are tied up for longer. If jobs are weighted by runtime, what is the average percent of memory used of the requested memory for each group? \n",
    "Note: Recall that high throughput computing (HTC) is focused on the use of multiple resources over long periods of time."
   ]
  },
  {
   "cell_type": "markdown",
   "metadata": {},
   "source": [
    "### 3) We are concerned with potentially unreliable notes which are not being detected by routine monitoring.  Of the jobs that failed, do any nodes show up unusually often?\n",
    "\n",
    "Tip: Ignore debug partition. Look for failed jobs.\n",
    "\n",
    "Note: Consider his use of \"unusually often\""
   ]
  },
  {
   "cell_type": "markdown",
   "metadata": {},
   "source": [
    "### 4) The CMS collaboration submits jobs that will run internal diagnostics and intentionally end early in 30 minutes. How often is this happening? (ie: what percent of jobs are CMS jobs) And does it happen on the same nodes repeatedly?\n",
    "\n",
    "Tip: Check both 'production' and 'nogpfs' partitions. Look for commonly failing nodes and compare with other failed jobs. \n",
    "\n",
    "Note: \n",
    "    Filter df with below parameters:\n",
    "        - Only production and nogpfs partitions \n",
    "        - State = 'cancelled'\n",
    "        - Usedtime = 30 minutes\n",
    "    Count number of unique job ids fall into this criteria\n",
    "    Compare to total number of unique job ids"
   ]
  },
  {
   "cell_type": "code",
   "execution_count": 1,
   "metadata": {},
   "outputs": [],
   "source": [
    "import pandas as pd\n",
    "import numpy as np\n",
    "import matplotlib.pyplot as plt\n",
    "import seaborn as sns\n",
    "import scipy.stats as stats\n",
    "import statsmodels.api as sm\n",
    "%matplotlib inline\n",
    "import re"
   ]
  },
  {
   "cell_type": "markdown",
   "metadata": {},
   "source": [
    "#### Read in the data. The Nodes column triggers errors because several values are spread out over multiple other columns to the right."
   ]
  },
  {
   "cell_type": "code",
   "execution_count": 2,
   "metadata": {},
   "outputs": [],
   "source": [
    "#accre = pd.read_csv('../data/accre-jobs-2020.csv',names=['JOBID', 'ACCOUNT', 'USER', 'REQMEM', 'USEDMEM', 'REQTIME', 'USEDTIME',\n",
    "       #'NODES', 'CPUS', 'PARTITION', 'EXITCODE', 'STATE', 'NODELIST'])\n",
    "\n",
    "#MP's previous suggestion for how to read in the file by identifying which columns to include. Resulted in adding additional row with column names as row values"
   ]
  },
  {
   "cell_type": "code",
   "execution_count": 3,
   "metadata": {
    "collapsed": true
   },
   "outputs": [
    {
     "name": "stderr",
     "output_type": "stream",
     "text": [
      "b'Skipping line 3461: expected 13 fields, saw 15\\nSkipping line 3462: expected 13 fields, saw 16\\nSkipping line 3465: expected 13 fields, saw 15\\nSkipping line 3468: expected 13 fields, saw 16\\nSkipping line 3472: expected 13 fields, saw 15\\nSkipping line 3476: expected 13 fields, saw 16\\nSkipping line 3479: expected 13 fields, saw 14\\nSkipping line 3482: expected 13 fields, saw 14\\nSkipping line 3486: expected 13 fields, saw 14\\nSkipping line 3490: expected 13 fields, saw 14\\nSkipping line 3494: expected 13 fields, saw 14\\nSkipping line 3495: expected 13 fields, saw 16\\nSkipping line 3497: expected 13 fields, saw 14\\nSkipping line 3498: expected 13 fields, saw 14\\nSkipping line 3499: expected 13 fields, saw 14\\nSkipping line 3505: expected 13 fields, saw 14\\nSkipping line 3517: expected 13 fields, saw 16\\nSkipping line 3526: expected 13 fields, saw 15\\nSkipping line 3528: expected 13 fields, saw 15\\nSkipping line 3529: expected 13 fields, saw 15\\nSkipping line 3530: expected 13 fields, saw 15\\nSkipping line 3531: expected 13 fields, saw 15\\nSkipping line 3532: expected 13 fields, saw 15\\nSkipping line 3535: expected 13 fields, saw 15\\nSkipping line 3539: expected 13 fields, saw 14\\nSkipping line 3541: expected 13 fields, saw 16\\nSkipping line 3542: expected 13 fields, saw 16\\nSkipping line 3543: expected 13 fields, saw 14\\nSkipping line 3545: expected 13 fields, saw 16\\nSkipping line 3547: expected 13 fields, saw 16\\nSkipping line 3550: expected 13 fields, saw 16\\nSkipping line 3551: expected 13 fields, saw 16\\nSkipping line 3554: expected 13 fields, saw 16\\nSkipping line 3578: expected 13 fields, saw 14\\nSkipping line 3579: expected 13 fields, saw 14\\nSkipping line 3580: expected 13 fields, saw 14\\nSkipping line 3581: expected 13 fields, saw 14\\nSkipping line 3582: expected 13 fields, saw 14\\nSkipping line 3594: expected 13 fields, saw 14\\nSkipping line 3603: expected 13 fields, saw 14\\nSkipping line 3604: expected 13 fields, saw 14\\nSkipping line 3605: expected 13 fields, saw 15\\nSkipping line 3610: expected 13 fields, saw 14\\nSkipping line 3619: expected 13 fields, saw 14\\nSkipping line 3620: expected 13 fields, saw 16\\nSkipping line 3631: expected 13 fields, saw 14\\nSkipping line 3632: expected 13 fields, saw 14\\nSkipping line 3633: expected 13 fields, saw 14\\nSkipping line 3634: expected 13 fields, saw 15\\nSkipping line 3644: expected 13 fields, saw 14\\nSkipping line 3645: expected 13 fields, saw 14\\nSkipping line 3655: expected 13 fields, saw 14\\nSkipping line 3662: expected 13 fields, saw 14\\nSkipping line 3663: expected 13 fields, saw 14\\nSkipping line 3675: expected 13 fields, saw 15\\nSkipping line 7349: expected 13 fields, saw 15\\nSkipping line 7350: expected 13 fields, saw 16\\nSkipping line 7351: expected 13 fields, saw 14\\nSkipping line 7352: expected 13 fields, saw 16\\nSkipping line 7353: expected 13 fields, saw 14\\n'\n"
     ]
    }
   ],
   "source": [
    "accre = pd.read_csv('../data/accre-jobs-2020.csv', nrows=9000, error_bad_lines=False)"
   ]
  },
  {
   "cell_type": "code",
   "execution_count": 4,
   "metadata": {},
   "outputs": [
    {
     "data": {
      "text/html": [
       "<div>\n",
       "<style scoped>\n",
       "    .dataframe tbody tr th:only-of-type {\n",
       "        vertical-align: middle;\n",
       "    }\n",
       "\n",
       "    .dataframe tbody tr th {\n",
       "        vertical-align: top;\n",
       "    }\n",
       "\n",
       "    .dataframe thead th {\n",
       "        text-align: right;\n",
       "    }\n",
       "</style>\n",
       "<table border=\"1\" class=\"dataframe\">\n",
       "  <thead>\n",
       "    <tr style=\"text-align: right;\">\n",
       "      <th></th>\n",
       "      <th>JOBID</th>\n",
       "      <th>ACCOUNT</th>\n",
       "      <th>USER</th>\n",
       "      <th>REQMEM</th>\n",
       "      <th>USEDMEM</th>\n",
       "      <th>REQTIME</th>\n",
       "      <th>USEDTIME</th>\n",
       "      <th>NODES</th>\n",
       "      <th>CPUS</th>\n",
       "      <th>PARTITION</th>\n",
       "      <th>EXITCODE</th>\n",
       "      <th>STATE</th>\n",
       "      <th>NODELIST</th>\n",
       "    </tr>\n",
       "  </thead>\n",
       "  <tbody>\n",
       "    <tr>\n",
       "      <th>0</th>\n",
       "      <td>15925210</td>\n",
       "      <td>treviso</td>\n",
       "      <td>arabella</td>\n",
       "      <td>122880Mn</td>\n",
       "      <td>65973.49M</td>\n",
       "      <td>13-18:00:00</td>\n",
       "      <td>13-18:00:28</td>\n",
       "      <td>1</td>\n",
       "      <td>24</td>\n",
       "      <td>production</td>\n",
       "      <td>0:0</td>\n",
       "      <td>COMPLETED</td>\n",
       "      <td>cn1531</td>\n",
       "    </tr>\n",
       "    <tr>\n",
       "      <th>1</th>\n",
       "      <td>15861126</td>\n",
       "      <td>treviso</td>\n",
       "      <td>arabella</td>\n",
       "      <td>122880Mn</td>\n",
       "      <td>67181.12M</td>\n",
       "      <td>13-18:00:00</td>\n",
       "      <td>12-14:50:56</td>\n",
       "      <td>1</td>\n",
       "      <td>24</td>\n",
       "      <td>production</td>\n",
       "      <td>0:0</td>\n",
       "      <td>COMPLETED</td>\n",
       "      <td>cn1441</td>\n",
       "    </tr>\n",
       "    <tr>\n",
       "      <th>2</th>\n",
       "      <td>15861125</td>\n",
       "      <td>treviso</td>\n",
       "      <td>arabella</td>\n",
       "      <td>122880Mn</td>\n",
       "      <td>69111.86M</td>\n",
       "      <td>13-18:00:00</td>\n",
       "      <td>13-18:00:20</td>\n",
       "      <td>1</td>\n",
       "      <td>24</td>\n",
       "      <td>production</td>\n",
       "      <td>0:0</td>\n",
       "      <td>COMPLETED</td>\n",
       "      <td>cn1464</td>\n",
       "    </tr>\n",
       "    <tr>\n",
       "      <th>3</th>\n",
       "      <td>16251645</td>\n",
       "      <td>treviso</td>\n",
       "      <td>arabella</td>\n",
       "      <td>122880Mn</td>\n",
       "      <td>65317.33M</td>\n",
       "      <td>13-18:00:00</td>\n",
       "      <td>12-03:50:32</td>\n",
       "      <td>1</td>\n",
       "      <td>24</td>\n",
       "      <td>production</td>\n",
       "      <td>0:0</td>\n",
       "      <td>COMPLETED</td>\n",
       "      <td>cn1473</td>\n",
       "    </tr>\n",
       "    <tr>\n",
       "      <th>4</th>\n",
       "      <td>16251646</td>\n",
       "      <td>treviso</td>\n",
       "      <td>arabella</td>\n",
       "      <td>122880Mn</td>\n",
       "      <td>65876.11M</td>\n",
       "      <td>13-18:00:00</td>\n",
       "      <td>13-18:00:03</td>\n",
       "      <td>1</td>\n",
       "      <td>24</td>\n",
       "      <td>production</td>\n",
       "      <td>0:0</td>\n",
       "      <td>COMPLETED</td>\n",
       "      <td>cn1440</td>\n",
       "    </tr>\n",
       "  </tbody>\n",
       "</table>\n",
       "</div>"
      ],
      "text/plain": [
       "      JOBID  ACCOUNT      USER    REQMEM    USEDMEM      REQTIME     USEDTIME  \\\n",
       "0  15925210  treviso  arabella  122880Mn  65973.49M  13-18:00:00  13-18:00:28   \n",
       "1  15861126  treviso  arabella  122880Mn  67181.12M  13-18:00:00  12-14:50:56   \n",
       "2  15861125  treviso  arabella  122880Mn  69111.86M  13-18:00:00  13-18:00:20   \n",
       "3  16251645  treviso  arabella  122880Mn  65317.33M  13-18:00:00  12-03:50:32   \n",
       "4  16251646  treviso  arabella  122880Mn  65876.11M  13-18:00:00  13-18:00:03   \n",
       "\n",
       "   NODES  CPUS   PARTITION EXITCODE      STATE NODELIST  \n",
       "0      1    24  production      0:0  COMPLETED   cn1531  \n",
       "1      1    24  production      0:0  COMPLETED   cn1441  \n",
       "2      1    24  production      0:0  COMPLETED   cn1464  \n",
       "3      1    24  production      0:0  COMPLETED   cn1473  \n",
       "4      1    24  production      0:0  COMPLETED   cn1440  "
      ]
     },
     "execution_count": 4,
     "metadata": {},
     "output_type": "execute_result"
    }
   ],
   "source": [
    "accre.head()"
   ]
  },
  {
   "cell_type": "code",
   "execution_count": 5,
   "metadata": {},
   "outputs": [],
   "source": [
    "#examining range of rows during group discussion\n",
    "#accre.iloc[3449:3471,:]"
   ]
  },
  {
   "cell_type": "code",
   "execution_count": 6,
   "metadata": {},
   "outputs": [
    {
     "name": "stdout",
     "output_type": "stream",
     "text": [
      "<class 'pandas.core.frame.DataFrame'>\n",
      "RangeIndex: 9000 entries, 0 to 8999\n",
      "Data columns (total 13 columns):\n",
      " #   Column     Non-Null Count  Dtype \n",
      "---  ------     --------------  ----- \n",
      " 0   JOBID      9000 non-null   object\n",
      " 1   ACCOUNT    9000 non-null   object\n",
      " 2   USER       9000 non-null   object\n",
      " 3   REQMEM     9000 non-null   object\n",
      " 4   USEDMEM    9000 non-null   object\n",
      " 5   REQTIME    9000 non-null   object\n",
      " 6   USEDTIME   9000 non-null   object\n",
      " 7   NODES      9000 non-null   int64 \n",
      " 8   CPUS       9000 non-null   int64 \n",
      " 9   PARTITION  9000 non-null   object\n",
      " 10  EXITCODE   9000 non-null   object\n",
      " 11  STATE      9000 non-null   object\n",
      " 12  NODELIST   9000 non-null   object\n",
      "dtypes: int64(2), object(11)\n",
      "memory usage: 914.2+ KB\n"
     ]
    }
   ],
   "source": [
    "accre.info()"
   ]
  },
  {
   "cell_type": "markdown",
   "metadata": {},
   "source": [
    "### Convert column names to lowercase"
   ]
  },
  {
   "cell_type": "code",
   "execution_count": 8,
   "metadata": {},
   "outputs": [],
   "source": [
    "#make column names lowercase, per group discussion\n",
    "accre.columns = accre.columns.str.lower()"
   ]
  },
  {
   "cell_type": "markdown",
   "metadata": {},
   "source": [
    "### Remove rows with values other than \"production\" in the Partition column.\n",
    "\"We really only want to look at the \"production\" partition so rows with other partitions should be removed\"\n",
    "\n",
    "#### However, we probably want to do this AFTER cleaning all the data. One of Eric's questions requests examining data where partition = 'nogpfs'"
   ]
  },
  {
   "cell_type": "code",
   "execution_count": 9,
   "metadata": {},
   "outputs": [
    {
     "data": {
      "text/plain": [
       "production        7274\n",
       "turing            1253\n",
       "nogpfs             435\n",
       "sam                 12\n",
       "debug               10\n",
       "pascal               8\n",
       "cgw-capra1           2\n",
       "maxwell              2\n",
       "cgw-cqs1             2\n",
       "cgw-dougherty1       1\n",
       "cgw-tbi01            1\n",
       "Name: partition, dtype: int64"
      ]
     },
     "execution_count": 9,
     "metadata": {},
     "output_type": "execute_result"
    }
   ],
   "source": [
    "accre.partition.value_counts()"
   ]
  },
  {
   "cell_type": "code",
   "execution_count": 10,
   "metadata": {},
   "outputs": [],
   "source": [
    "#use Boolean mask and save df back to itself.\n",
    "accre = accre[accre['partition']=='production']"
   ]
  },
  {
   "cell_type": "markdown",
   "metadata": {},
   "source": [
    "### Job time is in a format of either d-hh:mm:ss or hh:mm:ss. Convert to seconds."
   ]
  },
  {
   "cell_type": "code",
   "execution_count": 11,
   "metadata": {},
   "outputs": [],
   "source": [
    "#Convert the times into seconds\n",
    "\n",
    "def convert_time_to_seconds(time):\n",
    "    \"\"\"Return an integer value of the time converted into seconds.\"\"\"\n",
    "    \n",
    "    #Identify values not formatted as d-hh:mm:ss. Fill in the hour value by appending '0-' on the left of the string. \n",
    "    #This will make all our strings cleanly parse into an equal number of substrings.\n",
    "    \n",
    "    if len(time) <9:\n",
    "        time = \"0-\" + time\n",
    "    else: time\n",
    "    \n",
    "    #Use regex to select either '-' OR ':' as delimiter for split. The resulting substring list is ordered as [days, hours, minutes, seconds]\n",
    "    #Cast the list of substrings to numeric, turning it into an array. Cleaner to do it here than for each individual substring\n",
    "    time = pd.to_numeric(re.split('[-|:]',time))\n",
    "\n",
    "    #Add the product of each unit and its multiplier to get the total time in seconds\n",
    "    \n",
    "    time_in_seconds = time[-4]*86400 + time[-3]*3600 + time[-2]*60 + time[-1]\n",
    "    \n",
    "    return time_in_seconds"
   ]
  },
  {
   "cell_type": "code",
   "execution_count": 12,
   "metadata": {},
   "outputs": [],
   "source": [
    "#Change existing time columns to time in seconds.\n",
    "accre['reqtime'] = accre['reqtime'].apply(convert_time_to_seconds)\n",
    "accre['usedtime'] = accre['usedtime'].apply(convert_time_to_seconds)"
   ]
  },
  {
   "cell_type": "code",
   "execution_count": 13,
   "metadata": {},
   "outputs": [],
   "source": [
    "#Create new column to reflect difference between requested time and used time.\n",
    "accre['time_diff'] = accre['reqtime'] - accre['usedtime']"
   ]
  },
  {
   "cell_type": "code",
   "execution_count": 16,
   "metadata": {},
   "outputs": [],
   "source": [
    "# Adjust order of columns in dataframe\n",
    "accre = accre[['jobid', 'account', 'user', 'reqmem', 'usedmem', 'reqtime', 'usedtime','time_diff',\n",
    "       'nodes', 'cpus', 'partition', 'exitcode', 'state', 'nodelist']]"
   ]
  },
  {
   "cell_type": "code",
   "execution_count": 17,
   "metadata": {},
   "outputs": [
    {
     "name": "stdout",
     "output_type": "stream",
     "text": [
      "<class 'pandas.core.frame.DataFrame'>\n",
      "Int64Index: 7274 entries, 0 to 8999\n",
      "Data columns (total 14 columns):\n",
      " #   Column     Non-Null Count  Dtype \n",
      "---  ------     --------------  ----- \n",
      " 0   jobid      7274 non-null   object\n",
      " 1   account    7274 non-null   object\n",
      " 2   user       7274 non-null   object\n",
      " 3   reqmem     7274 non-null   object\n",
      " 4   usedmem    7274 non-null   object\n",
      " 5   reqtime    7274 non-null   int64 \n",
      " 6   usedtime   7274 non-null   int64 \n",
      " 7   time_diff  7274 non-null   int64 \n",
      " 8   nodes      7274 non-null   int64 \n",
      " 9   cpus       7274 non-null   int64 \n",
      " 10  partition  7274 non-null   object\n",
      " 11  exitcode   7274 non-null   object\n",
      " 12  state      7274 non-null   object\n",
      " 13  nodelist   7274 non-null   object\n",
      "dtypes: int64(5), object(9)\n",
      "memory usage: 852.4+ KB\n"
     ]
    }
   ],
   "source": [
    "accre.info()"
   ]
  },
  {
   "cell_type": "markdown",
   "metadata": {},
   "source": [
    "### Memory is reported in terms of Megabytes per node (Mc) or Megabytes per core (Mc), this needs to be uniformly converted to Megabytes per core by dividing by the number of cores per node in a job. \n",
    "\n",
    "Note: CPUS column includes total number of CPU cores allocated to a job (even for multi-node jobs). \n",
    "    WHEN reqmem column includes Mn AND in the entire usemem column\n",
    "    Memory (CPUs / Nodes)\n"
   ]
  },
  {
   "cell_type": "code",
   "execution_count": 20,
   "metadata": {},
   "outputs": [
    {
     "data": {
      "text/html": [
       "<div>\n",
       "<style scoped>\n",
       "    .dataframe tbody tr th:only-of-type {\n",
       "        vertical-align: middle;\n",
       "    }\n",
       "\n",
       "    .dataframe tbody tr th {\n",
       "        vertical-align: top;\n",
       "    }\n",
       "\n",
       "    .dataframe thead th {\n",
       "        text-align: right;\n",
       "    }\n",
       "</style>\n",
       "<table border=\"1\" class=\"dataframe\">\n",
       "  <thead>\n",
       "    <tr style=\"text-align: right;\">\n",
       "      <th></th>\n",
       "      <th>jobid</th>\n",
       "      <th>account</th>\n",
       "      <th>user</th>\n",
       "      <th>reqmem</th>\n",
       "      <th>usedmem</th>\n",
       "      <th>reqtime</th>\n",
       "      <th>usedtime</th>\n",
       "      <th>time_diff</th>\n",
       "      <th>nodes</th>\n",
       "      <th>cpus</th>\n",
       "      <th>partition</th>\n",
       "      <th>exitcode</th>\n",
       "      <th>state</th>\n",
       "      <th>nodelist</th>\n",
       "    </tr>\n",
       "  </thead>\n",
       "  <tbody>\n",
       "    <tr>\n",
       "      <th>0</th>\n",
       "      <td>15925210</td>\n",
       "      <td>treviso</td>\n",
       "      <td>arabella</td>\n",
       "      <td>122880Mn</td>\n",
       "      <td>65973.49M</td>\n",
       "      <td>1188000</td>\n",
       "      <td>1188028</td>\n",
       "      <td>-28</td>\n",
       "      <td>1</td>\n",
       "      <td>24</td>\n",
       "      <td>production</td>\n",
       "      <td>0:0</td>\n",
       "      <td>COMPLETED</td>\n",
       "      <td>cn1531</td>\n",
       "    </tr>\n",
       "    <tr>\n",
       "      <th>1</th>\n",
       "      <td>15861126</td>\n",
       "      <td>treviso</td>\n",
       "      <td>arabella</td>\n",
       "      <td>122880Mn</td>\n",
       "      <td>67181.12M</td>\n",
       "      <td>1188000</td>\n",
       "      <td>1090256</td>\n",
       "      <td>97744</td>\n",
       "      <td>1</td>\n",
       "      <td>24</td>\n",
       "      <td>production</td>\n",
       "      <td>0:0</td>\n",
       "      <td>COMPLETED</td>\n",
       "      <td>cn1441</td>\n",
       "    </tr>\n",
       "    <tr>\n",
       "      <th>2</th>\n",
       "      <td>15861125</td>\n",
       "      <td>treviso</td>\n",
       "      <td>arabella</td>\n",
       "      <td>122880Mn</td>\n",
       "      <td>69111.86M</td>\n",
       "      <td>1188000</td>\n",
       "      <td>1188020</td>\n",
       "      <td>-20</td>\n",
       "      <td>1</td>\n",
       "      <td>24</td>\n",
       "      <td>production</td>\n",
       "      <td>0:0</td>\n",
       "      <td>COMPLETED</td>\n",
       "      <td>cn1464</td>\n",
       "    </tr>\n",
       "    <tr>\n",
       "      <th>3</th>\n",
       "      <td>16251645</td>\n",
       "      <td>treviso</td>\n",
       "      <td>arabella</td>\n",
       "      <td>122880Mn</td>\n",
       "      <td>65317.33M</td>\n",
       "      <td>1188000</td>\n",
       "      <td>1050632</td>\n",
       "      <td>137368</td>\n",
       "      <td>1</td>\n",
       "      <td>24</td>\n",
       "      <td>production</td>\n",
       "      <td>0:0</td>\n",
       "      <td>COMPLETED</td>\n",
       "      <td>cn1473</td>\n",
       "    </tr>\n",
       "    <tr>\n",
       "      <th>4</th>\n",
       "      <td>16251646</td>\n",
       "      <td>treviso</td>\n",
       "      <td>arabella</td>\n",
       "      <td>122880Mn</td>\n",
       "      <td>65876.11M</td>\n",
       "      <td>1188000</td>\n",
       "      <td>1188003</td>\n",
       "      <td>-3</td>\n",
       "      <td>1</td>\n",
       "      <td>24</td>\n",
       "      <td>production</td>\n",
       "      <td>0:0</td>\n",
       "      <td>COMPLETED</td>\n",
       "      <td>cn1440</td>\n",
       "    </tr>\n",
       "  </tbody>\n",
       "</table>\n",
       "</div>"
      ],
      "text/plain": [
       "      jobid  account      user    reqmem    usedmem  reqtime  usedtime  \\\n",
       "0  15925210  treviso  arabella  122880Mn  65973.49M  1188000   1188028   \n",
       "1  15861126  treviso  arabella  122880Mn  67181.12M  1188000   1090256   \n",
       "2  15861125  treviso  arabella  122880Mn  69111.86M  1188000   1188020   \n",
       "3  16251645  treviso  arabella  122880Mn  65317.33M  1188000   1050632   \n",
       "4  16251646  treviso  arabella  122880Mn  65876.11M  1188000   1188003   \n",
       "\n",
       "   time_diff  nodes  cpus   partition exitcode      state nodelist  \n",
       "0        -28      1    24  production      0:0  COMPLETED   cn1531  \n",
       "1      97744      1    24  production      0:0  COMPLETED   cn1441  \n",
       "2        -20      1    24  production      0:0  COMPLETED   cn1464  \n",
       "3     137368      1    24  production      0:0  COMPLETED   cn1473  \n",
       "4         -3      1    24  production      0:0  COMPLETED   cn1440  "
      ]
     },
     "execution_count": 20,
     "metadata": {},
     "output_type": "execute_result"
    }
   ],
   "source": [
    "accre.head()"
   ]
  },
  {
   "cell_type": "markdown",
   "metadata": {},
   "source": [
    "### Slice off to create dataframe with records only related to node failures.\n",
    "MP shared code on 10/3 "
   ]
  },
  {
   "cell_type": "code",
   "execution_count": 19,
   "metadata": {},
   "outputs": [],
   "source": [
    "#accre[['exitcode_user', 'exitcode_node']] = accre['exitcode'].str.split(':', expand=True).astype(int)\n",
    "#new DF only including records with node failures. \n",
    "#accre_node_failure = accre.loc[accre['exitcode_node'] != 0]"
   ]
  },
  {
   "cell_type": "code",
   "execution_count": null,
   "metadata": {},
   "outputs": [],
   "source": []
  },
  {
   "cell_type": "code",
   "execution_count": null,
   "metadata": {},
   "outputs": [],
   "source": []
  },
  {
   "cell_type": "code",
   "execution_count": null,
   "metadata": {},
   "outputs": [],
   "source": []
  },
  {
   "cell_type": "code",
   "execution_count": 21,
   "metadata": {},
   "outputs": [
    {
     "data": {
      "text/plain": [
       "94"
      ]
     },
     "execution_count": 21,
     "metadata": {},
     "output_type": "execute_result"
    }
   ],
   "source": [
    "accre.NODES.nunique()"
   ]
  },
  {
   "cell_type": "code",
   "execution_count": 22,
   "metadata": {},
   "outputs": [
    {
     "data": {
      "text/plain": [
       "1     3745514\n",
       "1       65391\n",
       "2        2459\n",
       "3         861\n",
       "4         579\n",
       "       ...   \n",
       "51          1\n",
       "44          1\n",
       "43          1\n",
       "41          1\n",
       "61          1\n",
       "Name: NODES, Length: 94, dtype: int64"
      ]
     },
     "execution_count": 22,
     "metadata": {},
     "output_type": "execute_result"
    }
   ],
   "source": [
    "accre.NODES.value_counts()"
   ]
  },
  {
   "cell_type": "code",
   "execution_count": 34,
   "metadata": {},
   "outputs": [
    {
     "data": {
      "text/plain": [
       "JOBID        3745514\n",
       "ACCOUNT          172\n",
       "USER             594\n",
       "REQMEM           204\n",
       "USEDMEM       827081\n",
       "REQTIME          448\n",
       "USEDTIME      161540\n",
       "NODES              1\n",
       "CPUS              23\n",
       "PARTITION         15\n",
       "EXITCODE          24\n",
       "STATE             33\n",
       "NODELIST         868\n",
       "dtype: int64"
      ]
     },
     "execution_count": 34,
     "metadata": {},
     "output_type": "execute_result"
    }
   ],
   "source": [
    "accre[accre.NODES==1].nunique()"
   ]
  },
  {
   "cell_type": "code",
   "execution_count": 36,
   "metadata": {},
   "outputs": [
    {
     "data": {
      "text/plain": [
       "(1500, 13)"
      ]
     },
     "execution_count": 36,
     "metadata": {},
     "output_type": "execute_result"
    }
   ],
   "source": [
    "accre[(accre.STATE=='FAILED')|(accre.STATE=='OUT_OF_MEMORY')].shape"
   ]
  },
  {
   "cell_type": "markdown",
   "metadata": {},
   "source": [
    "## Scraps \n",
    "To be deleted/saved elsewhere"
   ]
  },
  {
   "cell_type": "code",
   "execution_count": 108,
   "metadata": {},
   "outputs": [],
   "source": [
    "\n",
    "\n",
    "#pd.to_datetime returned error Unknown string format 13-18:00:00.  Replace the - with :\n",
    "\n",
    "#accre['reqtime'] = accre['reqtime'].str.replace('-',':')\n",
    "#accre['usedtime'] = accre['usedtime'].str.replace('-',':')\n",
    "\n",
    "#create a placeholder column in order to view the original and updated values side by side\n",
    "#accre['reqtime2'] = accre['reqtime']\n",
    "\n",
    "#accre['reqtime2'] = pd.to_timedelta(accre['reqtime2'])\n",
    "\n",
    "#Write & test if/else portion of formula. IF the string value in the column is shorter than 9 characters, then it means there is no hour data.\n",
    "#Fill in the hour value by appending '0-' on the left of the string. This will make all our strings able to parse into an equal number of substrings.\n",
    "\n",
    "#time = '1-22:16:15'\n",
    "\n",
    "#if len(time) <9:\n",
    "    #time = \"0-\" + time\n",
    "#else: time\n",
    "\n",
    "#Use regex to select either '-' OR ':' as delimiter for split\n",
    "#Cast substring to numeric, turning it into an array. Cleaner to do it here than for each individual substring\n",
    "\n",
    "#substring = pd.to_numeric(re.split('[-|:]',time))\n",
    "#substring\n",
    "\n",
    "#Separate each element of the array and save to variable representing unit of time\n",
    "#Add the product of each variable and the multiplier to get the total time in seconds\n",
    "\n",
    "#day = substring[-4]\n",
    "#hours = substring[-3]\n",
    "#minutes = substring[-2]\n",
    "#seconds = substring[-1]\n",
    "\n",
    "#time_in_seconds= day*86400 + hours*3600 + minutes*60 + seconds\n",
    "\n",
    "\n",
    "#sample_df = {'job':['1','2','3','4','5'],'reqtime_test':['23:58:00','2-10:58:00','2-00:00:00','22:18:36','4-02:50:00'],'usedtime_test':['22:19:15','1-23:58:00','1-05:17:04','20:52:47','4-02:50:01']}\n",
    "#sample_df = pd.DataFrame(sample_df,columns=['job','reqtime_test','usedtime_test'])\n",
    "#sample_df\n",
    "\n",
    "#sample_df['reqtime_seconds'] = sample_df['reqtime_test'].apply(convert_time_to_seconds)\n",
    "\n",
    "#sample_df\n",
    "\n",
    "#Define time_in_seconds()\n",
    "\n",
    "#def convert_time_to_seconds(time):\n",
    "    #\"\"\"Return an integer value of the time converted into seconds.\"\"\"\n",
    "    \n",
    "    #Identify values not formatted as dhhmmss. Fill in the hour value by appending '0-' on the left of the string. \n",
    "    #This will make all our strings able to parse into an equal number of substrings.\n",
    "    \n",
    "    #if len(time) <9:\n",
    "        #time = \"0-\" + time\n",
    "   # else: time\n",
    "    \n",
    "    #Use regex to select either '-' OR ':' as delimiter for split\n",
    "    #Cast the list of substrings to numeric, turning it into an array. Cleaner to do it here than for each individual substring\n",
    "    #time = pd.to_numeric(re.split('[-|:]',time))\n",
    "\n",
    "    #Separate each element of the array and save to variable representing unit of time\n",
    "    #day = time[-4]\n",
    "    #hours = time[-3]\n",
    "    #minutes = time[-2]\n",
    "    #seconds = time[-1]\n",
    "\n",
    "    #Add the product of each unit and it's multiplier to get the total time in seconds\n",
    "    #time_in_seconds= day*86400 + hours*3600 + minutes*60 + seconds\n",
    "    \n",
    "    #return time_in_seconds"
   ]
  }
 ],
 "metadata": {
  "kernelspec": {
   "display_name": "Python 3",
   "language": "python",
   "name": "python3"
  },
  "language_info": {
   "codemirror_mode": {
    "name": "ipython",
    "version": 3
   },
   "file_extension": ".py",
   "mimetype": "text/x-python",
   "name": "python",
   "nbconvert_exporter": "python",
   "pygments_lexer": "ipython3",
   "version": "3.8.3"
  }
 },
 "nbformat": 4,
 "nbformat_minor": 4
}
